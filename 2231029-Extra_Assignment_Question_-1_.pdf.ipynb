{
 "cells": [
  {
   "cell_type": "code",
   "execution_count": 1,
   "id": "5cc41c82-dcba-4761-9505-483fe56fd611",
   "metadata": {},
   "outputs": [
    {
     "name": "stdout",
     "output_type": "stream",
     "text": [
      "HOPE AI\n"
     ]
    }
   ],
   "source": [
    "#print Statement\n",
    "#HOPE AI\n",
    "print(\"HOPE AI\")"
   ]
  },
  {
   "cell_type": "code",
   "execution_count": 4,
   "id": "5a465191-6996-41c8-856b-9717ca6a4ddc",
   "metadata": {},
   "outputs": [
    {
     "name": "stdin",
     "output_type": "stream",
     "text": [
      "Enter your institute name? : HOPE AI\n"
     ]
    }
   ],
   "source": [
    "# Buy input \n",
    "#Enter your institute name? : HOPE AI\n",
    "\n",
    "num=input(\"Enter your institute name? :\")\n"
   ]
  },
  {
   "cell_type": "code",
   "execution_count": 7,
   "id": "57babc41-0018-4593-985c-159124956b28",
   "metadata": {},
   "outputs": [
    {
     "name": "stdin",
     "output_type": "stream",
     "text": [
      "Enter your name: Raj\n",
      "Enter your age: 15\n",
      "Enter your school name: Guru school\n",
      "Enter your degree: B.E CSE\n"
     ]
    }
   ],
   "source": [
    "#Buy inputS\n",
    "#Enter your name: Raj\n",
    "#Enter your age: 15\n",
    "#Enter your school name: Guru school\n",
    "#Enter your drgree: B.E CSE\n",
    "\n",
    "num1=input(\"Enter your name:\" )\n",
    "num2=int(input(\"Enter your age:\"))\n",
    "num3=input(\"Enter your school name:\")\n",
    "num4=input(\"Enter your degree:\")"
   ]
  },
  {
   "cell_type": "code",
   "execution_count": 16,
   "id": "15b19b6c-0204-4ec6-b954-31a37e22069c",
   "metadata": {},
   "outputs": [
    {
     "name": "stdout",
     "output_type": "stream",
     "text": [
      "a= 43\n",
      "b= 34\n",
      "add = 77\n"
     ]
    }
   ],
   "source": [
    "#Addition\n",
    "#a= 43\n",
    "#b= 34\n",
    "#add = 77\n",
    "a= 43\n",
    "b= 34\n",
    "add=a+b\n",
    "print(\"a=\",a)\n",
    "print(\"b=\",b)\n",
    "print(\"add =\",add)"
   ]
  },
  {
   "cell_type": "code",
   "execution_count": 18,
   "id": "1d466ee8-fde5-4bef-8c10-643757060dcb",
   "metadata": {},
   "outputs": [
    {
     "name": "stdout",
     "output_type": "stream",
     "text": [
      "a= 43\n",
      "b= 34\n",
      "sub = 9\n"
     ]
    }
   ],
   "source": [
    "#Subtraction\n",
    "#a= 43\n",
    "#b= 34\n",
    "#Sub = 9\n",
    "a= 43\n",
    "b= 34\n",
    "sub=a-b\n",
    "print(\"a=\",a)\n",
    "print(\"b=\",b)\n",
    "print(\"sub =\",sub)\n"
   ]
  },
  {
   "cell_type": "code",
   "execution_count": 19,
   "id": "0df4d322-7fc7-43d5-8302-55b65fc5b9b1",
   "metadata": {},
   "outputs": [
    {
     "name": "stdout",
     "output_type": "stream",
     "text": [
      "a= 63\n",
      "b= 97\n",
      "mul = 6111\n"
     ]
    }
   ],
   "source": [
    "#Multiplication\n",
    "#a= 63\n",
    "#b= 97\n",
    "#Mul = 6111\n",
    "a= 63\n",
    "b= 97\n",
    "mul=a*b\n",
    "print(\"a=\",a)\n",
    "print(\"b=\",b)\n",
    "print(\"mul =\",mul)"
   ]
  },
  {
   "cell_type": "code",
   "execution_count": 26,
   "id": "18c9c75c-9c3b-4c65-bc74-45ebfa570687",
   "metadata": {},
   "outputs": [
    {
     "name": "stdout",
     "output_type": "stream",
     "text": [
      "a= 76\n",
      "b= 31\n",
      "Float Div = 2.4516129032258065\n"
     ]
    }
   ],
   "source": [
    "#Division\n",
    "#a= 76\n",
    "#b= 31\n",
    "a= 76\n",
    "b= 31\n",
    "FloatDiv=a/b\n",
    "print(\"a=\",a)\n",
    "print(\"b=\",b)\n",
    "print(\"Float Div =\",FloatDiv)\n"
   ]
  },
  {
   "cell_type": "code",
   "execution_count": 27,
   "id": "7036362d-f22e-4c6c-8834-29d73192990f",
   "metadata": {},
   "outputs": [
    {
     "name": "stdout",
     "output_type": "stream",
     "text": [
      "a= 76\n",
      "b= 31\n",
      "Floor Div = 2\n"
     ]
    }
   ],
   "source": [
    "#floorDivision\n",
    "#a= 76\n",
    "#b= 31\n",
    "a= 76\n",
    "b= 31\n",
    "FloorDiv=a//b\n",
    "print(\"a=\",a)\n",
    "print(\"b=\",b)\n",
    "print(\"Floor Div =\",FloorDiv)\n"
   ]
  },
  {
   "cell_type": "code",
   "execution_count": 28,
   "id": "f9b15c79-9cd2-4f3f-aec6-4101fd055967",
   "metadata": {},
   "outputs": [
    {
     "name": "stdout",
     "output_type": "stream",
     "text": [
      "a= 76\n",
      "b= 31\n",
      "Modulo = 14\n"
     ]
    }
   ],
   "source": [
    "#Modulo\n",
    "#a= 76\n",
    "#b= 31\n",
    "#Modulo = 14\n",
    "a= 76\n",
    "b= 31\n",
    "mod=a%b\n",
    "print(\"a=\",a)\n",
    "print(\"b=\",b)\n",
    "print(\"Modulo =\",mod)\n",
    "\n"
   ]
  },
  {
   "cell_type": "code",
   "execution_count": 30,
   "id": "3059eb36-824a-4a39-bdee-eff6b30b3362",
   "metadata": {},
   "outputs": [
    {
     "name": "stdout",
     "output_type": "stream",
     "text": [
      "a= 4\n",
      "b= 4\n",
      "Power = 256\n"
     ]
    }
   ],
   "source": [
    "#Power\n",
    "a= 4\n",
    "b= 4\n",
    "pow=a**b\n",
    "print(\"a=\",a)\n",
    "print(\"b=\",b)\n",
    "print(\"Power =\",pow)\n",
    "\n"
   ]
  },
  {
   "cell_type": "code",
   "execution_count": null,
   "id": "93339f96-dc6f-4292-8024-a87c44a11e23",
   "metadata": {},
   "outputs": [],
   "source": []
  }
 ],
 "metadata": {
  "kernelspec": {
   "display_name": "Python 3 (ipykernel)",
   "language": "python",
   "name": "python3"
  },
  "language_info": {
   "codemirror_mode": {
    "name": "ipython",
    "version": 3
   },
   "file_extension": ".py",
   "mimetype": "text/x-python",
   "name": "python",
   "nbconvert_exporter": "python",
   "pygments_lexer": "ipython3",
   "version": "3.13.5"
  }
 },
 "nbformat": 4,
 "nbformat_minor": 5
}
