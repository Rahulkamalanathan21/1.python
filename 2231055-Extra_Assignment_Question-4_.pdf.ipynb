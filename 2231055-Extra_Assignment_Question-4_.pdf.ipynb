{
 "cells": [
  {
   "cell_type": "code",
   "execution_count": 6,
   "id": "ffb6dfed-213d-4d86-8a5c-402a00b33134",
   "metadata": {},
   "outputs": [],
   "source": [
    "# Create a class and function, and list out the items in the list\n",
    "\n",
    "list1=[\"MachineLearning\",\"Neural Networks\",\"Vision\",\"Robotics\",\"Speech Processing\",\"Natural Language Processing\"]"
   ]
  },
  {
   "cell_type": "code",
   "execution_count": 7,
   "id": "773a0931-3f80-48ec-8eb9-027a037b9eb5",
   "metadata": {},
   "outputs": [],
   "source": [
    "class SubfieldsInAI():\n",
    "    def Subfields():\n",
    "        print(\"Sub-fields in AI are:\")\n",
    "        for i in list1:\n",
    "            print(i)"
   ]
  },
  {
   "cell_type": "code",
   "execution_count": 8,
   "id": "0780d633-790e-4ca9-b47c-b0f79fb7ee9d",
   "metadata": {},
   "outputs": [
    {
     "name": "stdout",
     "output_type": "stream",
     "text": [
      "Sub-fields in AI are:\n",
      "MachineLearning\n",
      "Neural Networks\n",
      "Vision\n",
      "Robotics\n",
      "Speech Processing\n",
      "Natural Language Processing\n"
     ]
    }
   ],
   "source": [
    "SubfieldsInAI.Subfields()\n"
   ]
  },
  {
   "cell_type": "code",
   "execution_count": 14,
   "id": "8f1bf22e-4c81-4b78-8649-b8f49f1ca017",
   "metadata": {},
   "outputs": [],
   "source": [
    "# Create a function that checks whether the given number is Odd or Even\n",
    "\n",
    "class OddEven():\n",
    "    def OddEven():\n",
    "        num1=int(input(\"Enter a number:\"))\n",
    "        if((num1%2==0)):\n",
    "            print(f\"{num1} is Even numer\")\n",
    "            cast1=((\"Even num\"))\n",
    "        else:\n",
    "            print(F\"{num1} is Odd number\")\n",
    "            cast1=(\"odd number\")\n",
    "            return cast1\n"
   ]
  },
  {
   "cell_type": "code",
   "execution_count": 15,
   "id": "a87a21e3-88fd-4751-b4ee-76bd72159252",
   "metadata": {},
   "outputs": [
    {
     "name": "stdin",
     "output_type": "stream",
     "text": [
      "Enter a number:  52452\n"
     ]
    },
    {
     "name": "stdout",
     "output_type": "stream",
     "text": [
      "52452 is Even numer\n"
     ]
    }
   ],
   "source": [
    "OddEven.OddEven()\n"
   ]
  },
  {
   "cell_type": "code",
   "execution_count": 21,
   "id": "6cd24f13-dfaa-4204-a356-972420f6534b",
   "metadata": {},
   "outputs": [],
   "source": [
    "## Create a function that tells elegibility of marriage for male and female according to their age limit like 21 for male and 18 for female\n",
    "#Your Gender:Male\n",
    "#Your Age:20\n",
    "#NOT ELIGIBLE\n",
    "class ElegiblityForMarriage():\n",
    "    def Elegible():\n",
    "        gender = input(\"Your Gender: \")\n",
    "        age = int(input(\"Your Age: \"))\n",
    "        \n",
    "        if (gender == \"male\" and age >= 21):\n",
    "            print(\"ELIGIBLE\")\n",
    "            \n",
    "        elif(gender == \"female\" and age >= 18):\n",
    "            print(\"ELIGIBLE\")\n",
    "        else:\n",
    "             print(\"NOT ELIGIBLE\")\n",
    "\n",
    "\n"
   ]
  },
  {
   "cell_type": "code",
   "execution_count": 22,
   "id": "b34b9451-7e53-46fa-8a37-cb6cc1517963",
   "metadata": {},
   "outputs": [
    {
     "name": "stdin",
     "output_type": "stream",
     "text": [
      "Your Gender:  male\n",
      "Your Age:  20\n"
     ]
    },
    {
     "name": "stdout",
     "output_type": "stream",
     "text": [
      "NOT ELIGIBLE\n"
     ]
    }
   ],
   "source": [
    "ElegiblityForMarriage.Elegible()\n",
    "\n"
   ]
  },
  {
   "cell_type": "code",
   "execution_count": 25,
   "id": "2b8fe265-86b2-4560-8acd-9c433b9f64fe",
   "metadata": {},
   "outputs": [
    {
     "name": "stdout",
     "output_type": "stream",
     "text": [
      "Subject1= 98\n",
      "Subject2= 87\n",
      "Subject3= 95\n",
      "Subject4= 95\n",
      "Subject5= 93\n",
      "Total : 468\n",
      "Percentage : 93.60000000000001\n"
     ]
    }
   ],
   "source": [
    "# calculate the percentage of your 10th mark\n",
    "\n",
    "class FindPercent():\n",
    "    def percentage(sub1, sub2, sub3, sub4, sub5):\n",
    "        total = sub1 + sub2 + sub3 + sub4 + sub5\n",
    "        percentage = (total / 500) * 100\n",
    "        print(f\"Subject1= {sub1}\")\n",
    "        print(f\"Subject2= {sub2}\")\n",
    "        print(f\"Subject3= {sub3}\")\n",
    "        print(f\"Subject4= {sub4}\")\n",
    "        print(f\"Subject5= {sub5}\")\n",
    "        print(f\"Total : {total}\")\n",
    "        print(f\"Percentage : {percentage}\")\n",
    "FindPercent.percentage(98, 87, 95, 95, 93)\n",
    "\n"
   ]
  },
  {
   "cell_type": "code",
   "execution_count": 24,
   "id": "5784aae9-3b7c-4e2e-b9a9-c03799b6ac88",
   "metadata": {},
   "outputs": [],
   "source": [
    "class Triangle:\n",
    "    def area(self,height, breadth):\n",
    "        result = (height * breadth) / 2\n",
    "        print(\"Height:\", height)\n",
    "        print(\"Breadth:\", breadth)\n",
    "        print(\"Area formula: (Height*Breadth)/2\")\n",
    "        print(\"Area of Triangle:\", result)\n",
    "    def perimeter(self,height1, height2, breadth):\n",
    "        result = height1 + height2 + breadth\n",
    "        print(\"Height1:\", height1)\n",
    "        print(\"Height2:\", height2)\n",
    "        print(\"Breadth:\", breadth)\n",
    "        print(\"Perimeter formula: Height1+Height2+Breadth\")\n",
    "        print(\"Perimeter of Triangle:\", result)\n",
    "    def triangle(self):\n",
    "        self.area(32, 34)\n",
    "        self.perimeter(2, 4, 4)\n",
    "\n",
    "    \n",
    "        \n",
    "        \n",
    "\n",
    "\n"
   ]
  },
  {
   "cell_type": "code",
   "execution_count": 25,
   "id": "13706150-d384-4c3e-ae6e-f852aacaeaff",
   "metadata": {},
   "outputs": [
    {
     "name": "stdout",
     "output_type": "stream",
     "text": [
      "Height: 32\n",
      "Breadth: 34\n",
      "Area formula: (Height*Breadth)/2\n",
      "Area of Triangle: 544.0\n",
      "Height1: 2\n",
      "Height2: 4\n",
      "Breadth: 4\n",
      "Perimeter formula: Height1+Height2+Breadth\n",
      "Perimeter of Triangle: 10\n"
     ]
    }
   ],
   "source": [
    "triangle = Triangle()\n",
    "triangle.triangle()"
   ]
  },
  {
   "cell_type": "code",
   "execution_count": null,
   "id": "3f0d5f32-97ca-47c7-aff2-cf4165a256ed",
   "metadata": {},
   "outputs": [],
   "source": []
  }
 ],
 "metadata": {
  "kernelspec": {
   "display_name": "Python 3 (ipykernel)",
   "language": "python",
   "name": "python3"
  },
  "language_info": {
   "codemirror_mode": {
    "name": "ipython",
    "version": 3
   },
   "file_extension": ".py",
   "mimetype": "text/x-python",
   "name": "python",
   "nbconvert_exporter": "python",
   "pygments_lexer": "ipython3",
   "version": "3.13.5"
  }
 },
 "nbformat": 4,
 "nbformat_minor": 5
}
