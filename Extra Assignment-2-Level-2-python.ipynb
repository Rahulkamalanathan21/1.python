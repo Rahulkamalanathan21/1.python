{
 "cells": [
  {
   "cell_type": "code",
   "execution_count": 5,
   "id": "c22f8a49-3714-4394-a025-481f26c63c66",
   "metadata": {},
   "outputs": [
    {
     "name": "stdout",
     "output_type": "stream",
     "text": [
      "0\n",
      "1\n",
      "2\n",
      "3\n",
      "4\n",
      "5\n",
      "6\n",
      "7\n",
      "8\n",
      "9\n",
      "10\n",
      "11\n",
      "12\n",
      "13\n",
      "14\n",
      "15\n",
      "16\n",
      "17\n",
      "18\n",
      "19\n"
     ]
    }
   ],
   "source": [
    "# print 0 to 20 by using range\n",
    "for num in range(0,20):\n",
    "    print(num)\n"
   ]
  },
  {
   "cell_type": "code",
   "execution_count": 12,
   "id": "3d19cb94-49e7-47c5-ba3b-18d0ca751f7e",
   "metadata": {},
   "outputs": [
    {
     "name": "stdout",
     "output_type": "stream",
     "text": [
      "10 11 12 13 14 15 16 17 18 19 "
     ]
    }
   ],
   "source": [
    "# print range 10 to 20\n",
    "for i in range(10,20):\n",
    "    print(i,end=\" \")\n"
   ]
  },
  {
   "cell_type": "code",
   "execution_count": 1,
   "id": "eeb158aa-3929-47f2-9cc9-5c36bd72909d",
   "metadata": {},
   "outputs": [
    {
     "name": "stdout",
     "output_type": "stream",
     "text": [
      "Number of item in the List2: 7\n"
     ]
    }
   ],
   "source": [
    "# Print number of items in the list by using 'len'\n",
    "List2 = [10, 20, 14, 55, 43, 87, 76]\n",
    "print(\"Number of item in the List2:\", len(List2))\n"
   ]
  },
  {
   "cell_type": "code",
   "execution_count": 4,
   "id": "dc874746-cd4a-4f22-bdcd-3f310cfd3148",
   "metadata": {},
   "outputs": [],
   "source": [
    "text = \"Artificial Intelligence\"\n"
   ]
  },
  {
   "cell_type": "code",
   "execution_count": 5,
   "id": "05498898-0689-4984-8e56-ce952c2b80e1",
   "metadata": {},
   "outputs": [
    {
     "name": "stdout",
     "output_type": "stream",
     "text": [
      "A\n",
      "r\n",
      "t\n",
      "i\n",
      "f\n",
      "i\n",
      "c\n",
      "i\n",
      "a\n",
      "l\n",
      " \n",
      "I\n",
      "n\n",
      "t\n",
      "e\n",
      "l\n",
      "l\n",
      "i\n",
      "g\n",
      "e\n",
      "n\n",
      "c\n",
      "e\n"
     ]
    }
   ],
   "source": [
    "for i in text:\n",
    "    print(i)"
   ]
  },
  {
   "cell_type": "code",
   "execution_count": 8,
   "id": "c0a7fc7a-ce11-4bc6-9bca-56a553980319",
   "metadata": {},
   "outputs": [
    {
     "name": "stdout",
     "output_type": "stream",
     "text": [
      "Rahul\n",
      "25\n",
      "Data Scientist\n"
     ]
    }
   ],
   "source": [
    "name = \"Rahul\"\n",
    "age = \"25\"\n",
    "profession = \"Data Scientist\"\n",
    "\n",
    "print(f\"{name}\")\n",
    "print(f\"{age}\")\n",
    "print(f\"{profession}\")\n"
   ]
  },
  {
   "cell_type": "code",
   "execution_count": 1,
   "id": "feefa37d-a151-44ac-a185-097da9ae9af6",
   "metadata": {},
   "outputs": [
    {
     "name": "stdout",
     "output_type": "stream",
     "text": [
      "(1, 'Welcome', 2, 'Hope')\n"
     ]
    }
   ],
   "source": [
    "# Print yhis mixered datatype using Tuples\n",
    "mixed_tuple = (1, 'Welcome', 2, 'Hope')\n",
    "print(mixed_tuple)\n"
   ]
  },
  {
   "cell_type": "code",
   "execution_count": 2,
   "id": "178d25b1-d795-4e9a-ad07-cfa09b7fe0da",
   "metadata": {},
   "outputs": [
    {
     "name": "stdout",
     "output_type": "stream",
     "text": [
      "((0, 1, 2, 3), ('python', 'HOPE'))\n"
     ]
    }
   ],
   "source": [
    "Tuple1 = (0, 1, 2, 3)\n",
    "Tuple2 = ('python', 'HOPE')\n",
    "result = (Tuple1, Tuple2)\n",
    "print(result)\n"
   ]
  },
  {
   "cell_type": "code",
   "execution_count": 19,
   "id": "8af42589-145b-4f1d-ad8d-3b7d7064a8bd",
   "metadata": {},
   "outputs": [
    {
     "name": "stdout",
     "output_type": "stream",
     "text": [
      "19  is odd\n",
      "25  is odd\n",
      "1  is odd\n"
     ]
    }
   ],
   "source": [
    "# print Odd Numbers in the list\n",
    "oddlist=[20,10,16,19,25,1,276,188]\n",
    "for list1 in oddlist:\n",
    "    if list1%2!=0:\n",
    "        print(list1,\" is odd\")\n",
    "    \n",
    "\n",
    "      \n",
    "\n"
   ]
  },
  {
   "cell_type": "code",
   "execution_count": 18,
   "id": "05a102d5-95cb-4b88-ac6b-3a6ef46a6706",
   "metadata": {},
   "outputs": [
    {
     "name": "stdout",
     "output_type": "stream",
     "text": [
      "20  is even\n",
      "10  is even\n",
      "16  is even\n",
      "276  is even\n",
      "188  is even\n"
     ]
    }
   ],
   "source": [
    "a = (20,10,16,19,25,1,276,188)\n",
    "for i in a:\n",
    "    if i % 2 == 0:\n",
    "        print(i,\" is even\")\n"
   ]
  },
  {
   "cell_type": "code",
   "execution_count": null,
   "id": "3fea6195-8a80-4560-b02b-d4cfaee0ac22",
   "metadata": {},
   "outputs": [],
   "source": []
  }
 ],
 "metadata": {
  "kernelspec": {
   "display_name": "Python 3 (ipykernel)",
   "language": "python",
   "name": "python3"
  },
  "language_info": {
   "codemirror_mode": {
    "name": "ipython",
    "version": 3
   },
   "file_extension": ".py",
   "mimetype": "text/x-python",
   "name": "python",
   "nbconvert_exporter": "python",
   "pygments_lexer": "ipython3",
   "version": "3.13.5"
  }
 },
 "nbformat": 4,
 "nbformat_minor": 5
}
