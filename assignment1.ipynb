{
 "cells": [
  {
   "cell_type": "code",
   "execution_count": 1,
   "id": "94ba6514-d570-4ea6-9e49-9d6b73989c9e",
   "metadata": {},
   "outputs": [
    {
     "name": "stdout",
     "output_type": "stream",
     "text": [
      "Welcome to Assignment-1\n"
     ]
    }
   ],
   "source": [
    "print(\"Welcome to Assignment-1\")"
   ]
  },
  {
   "cell_type": "code",
   "execution_count": 24,
   "id": "43ef65e0-7e22-4e50-b6af-2820ffbf6ccd",
   "metadata": {},
   "outputs": [
    {
     "name": "stdout",
     "output_type": "stream",
     "text": [
      "Num1=  10\n",
      "Num2=  30\n",
      "Add= 40\n"
     ]
    }
   ],
   "source": [
    "#Num1= 10\n",
    "#Num2= 30\n",
    "#Add= 40\n",
    "Num1= 10\n",
    "print(\"Num1= \",Num1)\n",
    "Num2= 30\n",
    "print(\"Num2= \",Num2)\n",
    "add=Num1+Num2\n",
    "print(\"Add=\",add)"
   ]
  },
  {
   "cell_type": "code",
   "execution_count": 22,
   "id": "53fb7ff5-1eb1-4a9e-8c9a-e708ce3fab48",
   "metadata": {},
   "outputs": [
    {
     "name": "stdin",
     "output_type": "stream",
     "text": [
      "Enter the BMI Index: 25\n"
     ]
    }
   ],
   "source": [
    "weight=int(input(\"Enter the BMI Index:\"))"
   ]
  },
  {
   "cell_type": "code",
   "execution_count": 23,
   "id": "4fc0def7-dcaa-4452-8525-1ecf4ab288ed",
   "metadata": {},
   "outputs": [
    {
     "name": "stdout",
     "output_type": "stream",
     "text": [
      "overweight\n"
     ]
    }
   ],
   "source": [
    "#Body Mass Index\n",
    "#Enter the BMI Index:34\n",
    "#Very Overweight\n",
    "\n",
    "\n",
    "if(weight<18.5):\n",
    "    print(\"Underweight\")\n",
    "elif(weight<25):\n",
    "    print(\"Normalweight\")\n",
    "elif(weight<30):\n",
    "    print(\"overweight\")\n",
    "else:\n",
    "    print(\"very over weight\")\n",
    "\n"
   ]
  },
  {
   "cell_type": "code",
   "execution_count": null,
   "id": "242e88ae-8875-4742-8db0-c62d4bbb90b5",
   "metadata": {},
   "outputs": [],
   "source": []
  }
 ],
 "metadata": {
  "kernelspec": {
   "display_name": "Python 3 (ipykernel)",
   "language": "python",
   "name": "python3"
  },
  "language_info": {
   "codemirror_mode": {
    "name": "ipython",
    "version": 3
   },
   "file_extension": ".py",
   "mimetype": "text/x-python",
   "name": "python",
   "nbconvert_exporter": "python",
   "pygments_lexer": "ipython3",
   "version": "3.13.5"
  }
 },
 "nbformat": 4,
 "nbformat_minor": 5
}
