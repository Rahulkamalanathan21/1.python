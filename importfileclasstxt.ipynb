{
 "cells": [
  {
   "cell_type": "code",
   "execution_count": 1,
   "id": "784b7de6-ee7b-4d7d-88da-5507e2e493f1",
   "metadata": {},
   "outputs": [],
   "source": [
    "from copyclassmul import multiplefunction"
   ]
  },
  {
   "cell_type": "code",
   "execution_count": 2,
   "id": "3891b751-89a8-4df3-82ba-ae6a0d697e30",
   "metadata": {},
   "outputs": [
    {
     "name": "stdin",
     "output_type": "stream",
     "text": [
      "Enter the BMI Index: 22\n"
     ]
    },
    {
     "name": "stdout",
     "output_type": "stream",
     "text": [
      "Normalweight\n"
     ]
    }
   ],
   "source": [
    "multiplefunction.bmi()"
   ]
  },
  {
   "cell_type": "code",
   "execution_count": 4,
   "id": "c9dde784-c72a-4df5-8e10-68859839ae8c",
   "metadata": {},
   "outputs": [
    {
     "name": "stdin",
     "output_type": "stream",
     "text": [
      "THE NMBER IS: 22\n"
     ]
    },
    {
     "name": "stdout",
     "output_type": "stream",
     "text": [
      "even num\n"
     ]
    }
   ],
   "source": [
    "multiplefunction.oddeven()"
   ]
  },
  {
   "cell_type": "code",
   "execution_count": null,
   "id": "88260754-b891-4ac1-b953-94671b5e254d",
   "metadata": {},
   "outputs": [],
   "source": []
  }
 ],
 "metadata": {
  "kernelspec": {
   "display_name": "Python 3 (ipykernel)",
   "language": "python",
   "name": "python3"
  },
  "language_info": {
   "codemirror_mode": {
    "name": "ipython",
    "version": 3
   },
   "file_extension": ".py",
   "mimetype": "text/x-python",
   "name": "python",
   "nbconvert_exporter": "python",
   "pygments_lexer": "ipython3",
   "version": "3.13.5"
  }
 },
 "nbformat": 4,
 "nbformat_minor": 5
}
