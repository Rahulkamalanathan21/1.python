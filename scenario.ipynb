{
 "cells": [
  {
   "cell_type": "code",
   "execution_count": 4,
   "id": "4fa28542-ba38-4e6f-9a61-1807f3885635",
   "metadata": {},
   "outputs": [
    {
     "name": "stdin",
     "output_type": "stream",
     "text": [
      "Enter their age.: 25\n"
     ]
    },
    {
     "name": "stdout",
     "output_type": "stream",
     "text": [
      "Eligible to vote\n"
     ]
    }
   ],
   "source": [
    "# A system checks if a user is eligible to vote based on their age.\n",
    "#Write logic to ask the user for their age and determine if they are eligible to vote based on whether they are 18 or older.\n",
    "age=int(input(\"Enter their age.:\"))\n",
    "if (age>=18):\n",
    "    print(\"Eligible to vote\")\n",
    "else:\n",
    "    print(\"Not eligible to vote\")\n"
   ]
  },
  {
   "cell_type": "code",
   "execution_count": 3,
   "id": "bdbc00a2-d1eb-4ea0-a492-001bcf9efc50",
   "metadata": {},
   "outputs": [
    {
     "name": "stdout",
     "output_type": "stream",
     "text": [
      "The largest number is: 21\n"
     ]
    }
   ],
   "source": [
    "#A program processes a list of numbers and needs to find the largest value.\n",
    "_list = [5, 12, 3, 9, 21, 8]\n",
    "largest_number = max(_list)\n",
    "print(\"The largest number is:\", largest_number)\n",
    "\n"
   ]
  },
  {
   "cell_type": "code",
   "execution_count": 11,
   "id": "71353c76-e8ad-46d4-9350-30a95337781f",
   "metadata": {},
   "outputs": [
    {
     "name": "stdin",
     "output_type": "stream",
     "text": [
      "Enter employee salary:  40000\n"
     ]
    },
    {
     "name": "stdout",
     "output_type": "stream",
     "text": [
      "Bonus amount: $ 0\n"
     ]
    }
   ],
   "source": [
    "#A company provides employees with a 10% bonus if their salary exceeds $50,000.\n",
    "#Logic:\n",
    "#1.\tRead the employee's salary.\n",
    "#2.\tIf the salary is greater than $50,000, calculate a 10% bonus.\n",
    "#3.\tOtherwise, set the bonus to zero.\n",
    "#4.\tReturn the calculated bonus amount.\n",
    "\n",
    "salary = float(input(\"Enter employee salary: \"))\n",
    "bonus = 0\n",
    "if salary > 50000:\n",
    "    bonus = salary * 0.10\n",
    "else:\n",
    "    bonus = 0\n",
    "print(\"Bonus amount: $\", bonus)\n",
    "\n",
    "\n"
   ]
  },
  {
   "cell_type": "code",
   "execution_count": 2,
   "id": "c7342424-31bf-49dc-b6a5-64d0e226d5e6",
   "metadata": {},
   "outputs": [
    {
     "name": "stdin",
     "output_type": "stream",
     "text": [
      "Enter the Number 31\n"
     ]
    },
    {
     "name": "stdout",
     "output_type": "stream",
     "text": [
      "The number is Odd\n"
     ]
    }
   ],
   "source": [
    "#A program evaluates a number to determine if it is even or odd.\n",
    "#Write logic to check whether a given number is even or odd.\n",
    "number=int(input(\"Enter the Number\"))\n",
    "if number%2==0:\n",
    "    print(\"The number is Even Number\")\n",
    "else:\n",
    "    print(\"The number is Odd\")\n"
   ]
  },
  {
   "cell_type": "code",
   "execution_count": 7,
   "id": "e88f93af-8a9f-4167-bc4d-965be1aeec85",
   "metadata": {},
   "outputs": [
    {
     "name": "stdin",
     "output_type": "stream",
     "text": [
      "Enter the text: Welocome to Hope AI\n"
     ]
    },
    {
     "name": "stdout",
     "output_type": "stream",
     "text": [
      "Reversed text: IA epoH ot emocoleW\n",
      "Word-by-word reversed: AI Hope to Welocome\n"
     ]
    }
   ],
   "source": [
    "#A text-processing tool reverses a given word or sentence for formatting purposes.\n",
    "#Write logic to take a word or sentence as input and produce its reversed version.\n",
    "text=input(\"Enter the text:\")\n",
    "hello=text[::-1]\n",
    "\n",
    "text1=text.split()\n",
    "word_by_word = \" \".join(text1[::-1])\n",
    "print(\"Reversed text:\",hello)\n",
    "print(\"Word-by-word reversed:\", word_by_word)\n"
   ]
  },
  {
   "cell_type": "code",
   "execution_count": 10,
   "id": "1cfac62f-411f-4356-a027-372547cc5d7c",
   "metadata": {},
   "outputs": [
    {
     "name": "stdin",
     "output_type": "stream",
     "text": [
      "Enter the student's score:  99\n"
     ]
    },
    {
     "name": "stdout",
     "output_type": "stream",
     "text": [
      "Result: Pass \n"
     ]
    }
   ],
   "source": [
    "#A grading system determines whether a student has passed or failed based on their score.\n",
    "#Write logic to check if a student has passed a subject by scoring at least 40 marks.\n",
    "# Grading system: Pass/Fail check\n",
    "\n",
    "# Step 1: Take input from the user\n",
    "score = int(input(\"Enter the student's score: \"))\n",
    "\n",
    "# Step 2: Check if score is at least 40\n",
    "if score >= 40:\n",
    "    print(\"Result: Pass \")\n",
    "else:\n",
    "    print(\"Result: Fail \")\n",
    "\n",
    "\n"
   ]
  },
  {
   "cell_type": "code",
   "execution_count": 13,
   "id": "e68b3186-4be8-4184-9fc0-3c43418c8f26",
   "metadata": {},
   "outputs": [
    {
     "name": "stdin",
     "output_type": "stream",
     "text": [
      "Enter the total order amount:  200\n"
     ]
    },
    {
     "name": "stdout",
     "output_type": "stream",
     "text": [
      "Original Amount:  200.0\n",
      "Discount Applied:  40.0\n",
      "Final Amount to Pay: 160.0\n"
     ]
    }
   ],
   "source": [
    "#A retail store offers a 20% discount if a customer’s total order exceeds $100.\n",
    "#Write logic to calculate the final amount to be paid after applying the discount.\n",
    "# Retail store discount calculator\n",
    "order_amount = float(input(\"Enter the total order amount: \"))\n",
    "if order_amount > 100:\n",
    "    discount = order_amount * 0.20   \n",
    "    final_amount = order_amount - discount\n",
    "else:\n",
    "    discount = 0\n",
    "    final_amount = order_amount\n",
    "print(\"Original Amount: \", order_amount)\n",
    "print(\"Discount Applied: \", discount)\n",
    "print(\"Final Amount to Pay:\", final_amount)\n",
    "\n",
    "\n",
    "\n",
    "\n"
   ]
  },
  {
   "cell_type": "code",
   "execution_count": 17,
   "id": "37ad5a02-b312-4d0e-ad0f-d332b5da4ead",
   "metadata": {},
   "outputs": [
    {
     "name": "stdin",
     "output_type": "stream",
     "text": [
      "Enter your account balance:  200\n",
      "Enter the withdrawal amount:  100\n"
     ]
    },
    {
     "name": "stdout",
     "output_type": "stream",
     "text": [
      "Withdrawal successful \n",
      "Remaining Balance:  200.0\n"
     ]
    }
   ],
   "source": [
    "#A banking system processes withdrawal requests and ensures the user has enough balanceWrite logic to check if a user has enough balance before \n",
    "#allowing a withdrawal and update the remaining balance accordingly\n",
    "# Banking system: Withdrawal process\n",
    "balance = float(input(\"Enter your account balance: \"))\n",
    "withdraw_amount = float(input(\"Enter the withdrawal amount: \"))\n",
    "\n",
    "if withdraw_amount <= balance:\n",
    "    balance == withdraw_amount   \n",
    "    print(\"Withdrawal successful \")\n",
    "    print(\"Remaining Balance: \", balance)\n",
    "else:\n",
    "    print(\"Withdrawal failed - Insufficient balance\")\n",
    "    print(\"Your Balance: \", balance)\n",
    "\n"
   ]
  },
  {
   "cell_type": "code",
   "execution_count": 20,
   "id": "7149891e-a57e-4e78-8873-78735731606e",
   "metadata": {},
   "outputs": [
    {
     "name": "stdin",
     "output_type": "stream",
     "text": [
      "Enter a year:  2016\n"
     ]
    },
    {
     "name": "stdout",
     "output_type": "stream",
     "text": [
      "2016 is a Leap Year \n"
     ]
    }
   ],
   "source": [
    "#A calendar system verifies whether a given year is a leap year based on standard leap year rules.\n",
    "#Write logic to determine whether a given year is a leap year.\n",
    "year = int(input(\"Enter a year: \"))\n",
    "if (year % 4 == 0):\n",
    "    print(year, \"is a Leap Year \")\n",
    "else:\n",
    "    print(year, \"is NOT a Leap Year \")\n",
    "\n"
   ]
  },
  {
   "cell_type": "code",
   "execution_count": 32,
   "id": "d09a2276-c8b8-41fb-a110-1d9c8598560e",
   "metadata": {},
   "outputs": [
    {
     "name": "stdout",
     "output_type": "stream",
     "text": [
      "[22, 44, 70, 34]\n"
     ]
    }
   ],
   "source": [
    "#A program filters out only even numbers from a given list.\n",
    " #Write logic to extract and return only the even numbers from a list.\n",
    "\n",
    "list1=[22,33,44,65,89,70,34]\n",
    "number=[i for i in list1 if i % 2 == 0]\n",
    "print(\"the even num are\"number)\n"
   ]
  },
  {
   "cell_type": "code",
   "execution_count": null,
   "id": "be5483f1-e2f9-4667-a143-93b6fe2ef3d7",
   "metadata": {},
   "outputs": [],
   "source": []
  }
 ],
 "metadata": {
  "kernelspec": {
   "display_name": "Python 3 (ipykernel)",
   "language": "python",
   "name": "python3"
  },
  "language_info": {
   "codemirror_mode": {
    "name": "ipython",
    "version": 3
   },
   "file_extension": ".py",
   "mimetype": "text/x-python",
   "name": "python",
   "nbconvert_exporter": "python",
   "pygments_lexer": "ipython3",
   "version": "3.13.5"
  }
 },
 "nbformat": 4,
 "nbformat_minor": 5
}
